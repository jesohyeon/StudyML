{
 "cells": [
  {
   "cell_type": "markdown",
   "metadata": {},
   "source": [
    "### 사전 준비"
   ]
  },
  {
   "cell_type": "code",
   "execution_count": 3,
   "metadata": {},
   "outputs": [],
   "source": [
    "# 기본 패키지 import\n",
    "import numpy as np\n",
    "import pandas as pd\n",
    "import scipy as sp\n",
    "\n",
    "import matplotlib as mbl\n",
    "import matplotlib.pyplot as plt\n",
    "import seaborn as sns"
   ]
  },
  {
   "cell_type": "code",
   "execution_count": 4,
   "metadata": {},
   "outputs": [],
   "source": [
    "# 한글/차트 마이너스 깨짐현상 해결/ seaborn 한글설정\n",
    "from matplotlib import rc\n",
    "import matplotlib.font_manager as fm\n",
    "\n",
    "plt.rc('font', family='Malgun Gothic')\n",
    "sns.set(font='Malgun Gothic', rc={'axes.unicode_minus':False}, style='darkgrid')"
   ]
  },
  {
   "cell_type": "code",
   "execution_count": 5,
   "metadata": {},
   "outputs": [],
   "source": [
    "# 머신러닝 패키지 추가\n",
    "import statsmodels.api as sm # 안쓸껄?\n",
    "import sklearn as sk"
   ]
  },
  {
   "cell_type": "markdown",
   "metadata": {},
   "source": [
    "* 확률적 경사 하강법(1개씩 꺼내기)\n",
    "    - 훈련세트에서 랜덤하게 하나의 샘플을 고르는 것\n",
    "    - 전체 샘플을 사용할 때 까지 계속 사용\n",
    "\n",
    "* 에포크(훈련세트 모두 사용)\n",
    "    - 확률적 경사 하강법에서 훈련 세트를 한 번 모두 사용하는 과정(일반적으로 경사 하강법은 수십, 수백 번 이상 에포크 수행)\n",
    "    - 반복횟수를 말함\n",
    "\n",
    "* 미니배치 경사 하강법(여러 개씩 꺼내기)\n",
    "    - 여러개의 샘플을 사용해 경사 하강법을 수행하는 방식\n",
    "\n",
    "\n",
    "* 배치 경사 하강법(몽땅 꺼내기)\n",
    "    - 극단적으로 한 번 경사로를 따라 이동하기 위해 전체 샘플 사용\n",
    "\n",
    "=> 훈련 세트를 사용해 산 아래에 있는 최적의 장소로 조금씩 이동하는 알고리즘"
   ]
  },
  {
   "cell_type": "markdown",
   "metadata": {},
   "source": [
    "#### 손실함수\n",
    "* 어떤 문제에서 머신러닝 알고리즘이 얼마나 엉터리인지를 측정하는 기준\n",
    "* 손실함수의 값이 작을수록 좋음\n",
    "* 미분가능해야함\n",
    "* 평균 제곱 오차를 많이 사용"
   ]
  },
  {
   "cell_type": "markdown",
   "metadata": {},
   "source": [
    "#### 로지스틱 손실함수\n",
    "* 이진 크로스엔트로피 손실함수라고도 부름"
   ]
  }
 ],
 "metadata": {
  "kernelspec": {
   "display_name": "Python 3.10.5 64-bit",
   "language": "python",
   "name": "python3"
  },
  "language_info": {
   "codemirror_mode": {
    "name": "ipython",
    "version": 3
   },
   "file_extension": ".py",
   "mimetype": "text/x-python",
   "name": "python",
   "nbconvert_exporter": "python",
   "pygments_lexer": "ipython3",
   "version": "3.10.5"
  },
  "orig_nbformat": 4,
  "vscode": {
   "interpreter": {
    "hash": "beedbe2faf2f7048d727558d0bc3221e7eba2a0b921cac4d4771b2feb8f74b30"
   }
  }
 },
 "nbformat": 4,
 "nbformat_minor": 2
}
